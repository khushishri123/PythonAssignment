{
 "cells": [
  {
   "cell_type": "markdown",
   "metadata": {},
   "source": [
    "Write a function translate() that will translate a text into \"rövarspråket\" (Swedish for \"robber's language\"). That is, double every consonant and place an occurrence of \"o\" in between. For example, translate(\"this is fun\") should return the string \"tothohisos isos fofunon\"."
   ]
  },
  {
   "cell_type": "code",
   "execution_count": 2,
   "metadata": {},
   "outputs": [
    {
     "name": "stdout",
     "output_type": "stream",
     "text": [
      "tothohisos isos fofunon\n"
     ]
    }
   ],
   "source": [
    "def doubleConstant(str):\n",
    "    ans=\"\"\n",
    "    for word in str:\n",
    "        for w in word:\n",
    "            if w!='a' and w!='e' and w!='i' and w!='o' and w!='u' and w!=' ':\n",
    "                ans+=w\n",
    "                ans+='o'\n",
    "                ans+=w\n",
    "            else:\n",
    "                ans+=w    \n",
    "    \n",
    "    print(ans) \n",
    "                \n",
    "\n",
    "str=\"this is fun\"\n",
    "doubleConstant(str)"
   ]
  },
  {
   "cell_type": "markdown",
   "metadata": {},
   "source": [
    "Define a function sum() and a function multiply() that sums and multiplies (respectively) all the numbers in a list of numbers. For example, sum([1, 2, 3, 4]) should return 10, and multiply([1, 2, 3, 4]) should return 24"
   ]
  },
  {
   "cell_type": "code",
   "execution_count": 1,
   "metadata": {},
   "outputs": [
    {
     "name": "stdout",
     "output_type": "stream",
     "text": [
      "Sum is : 10\n",
      "Mutiply is: 24\n"
     ]
    }
   ],
   "source": [
    "def sum(lst):\n",
    "    total=0\n",
    "    for i in lst:\n",
    "        total+=i\n",
    "    return total\n",
    "def multiply(lst):\n",
    "    mul=1\n",
    "    for i in lst:\n",
    "        mul=mul*i\n",
    "    return mul\n",
    "lst=[1,2,3,4] \n",
    "s=sum(lst)\n",
    "print(\"Sum is : %d\"% s)\n",
    "mul=multiply(lst)\n",
    "print(\"Mutiply is: %d\"% mul)                     \n"
   ]
  },
  {
   "cell_type": "markdown",
   "metadata": {},
   "source": [
    "**Define a function reverse() that computes the reversal of a string. For example, reverse(\"I am testing\") should return the string \"gnitset ma I**"
   ]
  },
  {
   "cell_type": "code",
   "execution_count": 2,
   "metadata": {},
   "outputs": [
    {
     "name": "stdout",
     "output_type": "stream",
     "text": [
      "gnitset ma I\n"
     ]
    }
   ],
   "source": [
    "str=\"I am testing\"\n",
    "print(str[::-1])"
   ]
  },
  {
   "cell_type": "markdown",
   "metadata": {},
   "source": [
    "**Define a function is_palindrome() that recognizes palindromes (i.e. words that look the same written backwards). For example, is_palindrome(\"radar\") should return True.**"
   ]
  },
  {
   "cell_type": "code",
   "execution_count": 6,
   "metadata": {},
   "outputs": [
    {
     "name": "stdout",
     "output_type": "stream",
     "text": [
      "Yes\n"
     ]
    }
   ],
   "source": [
    "str=\"radar\"\n",
    "def is_palindrome(str):\n",
    "   return str==str[::-1]      \n",
    "\n",
    "found=is_palindrome(str)\n",
    "if found:\n",
    "    print(\"Yes\")\n",
    "else:\n",
    "    print(\"No\")"
   ]
  },
  {
   "cell_type": "markdown",
   "metadata": {},
   "source": [
    "**Write a function is_member() that takes a value (i.e. a number, string, etc) x and a list of values a, and returns True if x is a member of a, False otherwise.**"
   ]
  },
  {
   "cell_type": "code",
   "execution_count": 10,
   "metadata": {},
   "outputs": [
    {
     "name": "stdout",
     "output_type": "stream",
     "text": [
      "True\n"
     ]
    }
   ],
   "source": [
    "def is_member(x,a):\n",
    "    if x in a:\n",
    "        return True\n",
    "    else:\n",
    "        return False\n",
    "str=[1,2,3,4]\n",
    "x=3\n",
    "found=is_member(x,str)  \n",
    "print(found)          "
   ]
  },
  {
   "cell_type": "markdown",
   "metadata": {},
   "source": [
    "**Define a function overlapping() that takes two lists and returns True if they have at least one member in common, False otherwise. You may use your is_member() function, or the in operator, but for the sake of the exercise, you should (also) write it using two nested for-loops.**"
   ]
  },
  {
   "cell_type": "code",
   "execution_count": 12,
   "metadata": {},
   "outputs": [
    {
     "name": "stdout",
     "output_type": "stream",
     "text": [
      "True\n"
     ]
    }
   ],
   "source": [
    "def overlapping(a,b):\n",
    "    for i in a:\n",
    "        for j in b:\n",
    "            if i==j:\n",
    "                return True\n",
    "    return False\n",
    "a=[1,2,3,4,5]   \n",
    "b=[3,6,7,8,9]\n",
    "print(overlapping(a,b)) \n",
    "\n",
    "    "
   ]
  },
  {
   "cell_type": "code",
   "execution_count": 30,
   "metadata": {},
   "outputs": [
    {
     "data": {
      "text/plain": [
       "False"
      ]
     },
     "execution_count": 30,
     "metadata": {},
     "output_type": "execute_result"
    }
   ],
   "source": [
    "overlapping([1,2,3],[4,5,6])"
   ]
  },
  {
   "cell_type": "markdown",
   "metadata": {},
   "source": [
    "# *Define a procedure histogram() that takes a list of integers and prints a histogram to the screen. For example, histogram([4, 9, 7]) should print the following:*(click on next cell to see)\n"
   ]
  },
  {
   "cell_type": "markdown",
   "metadata": {},
   "source": [
    "\n",
    "****\n",
    "*********\n",
    "*******"
   ]
  },
  {
   "cell_type": "code",
   "execution_count": 20,
   "metadata": {},
   "outputs": [
    {
     "name": "stdout",
     "output_type": "stream",
     "text": [
      "*  \n",
      "*  *  *  *  *  \n",
      "*  *  *  *  *  *  *  \n"
     ]
    }
   ],
   "source": [
    "def histogram(lst):\n",
    "    for i in lst:\n",
    "        for j in range(1,i+1):\n",
    "           # print(\"Value of i %d and Value of j: %d \" % (i, j))\n",
    "            print(\"* \",end=' ')   \n",
    "        print()     \n",
    "lst=[1,5,7]\n",
    "histogram(lst)"
   ]
  },
  {
   "cell_type": "code",
   "execution_count": 33,
   "metadata": {},
   "outputs": [
    {
     "name": "stdout",
     "output_type": "stream",
     "text": [
      "*\n",
      "*****\n",
      "*******\n"
     ]
    }
   ],
   "source": [
    "histogram([1,5,7])"
   ]
  },
  {
   "cell_type": "markdown",
   "metadata": {},
   "source": [
    "**Write a function char_freq() that takes a string and builds a frequency listing of the characters contained in it. Represent the frequency listing as a Python dictionary. Try it with something like char_freq(\"abbabcbdbabdbdbabababcbcbab\").**\n",
    "\n"
   ]
  },
  {
   "cell_type": "code",
   "execution_count": 82,
   "metadata": {},
   "outputs": [],
   "source": [
    "def char_freq(s):\n",
    "    s1=set(s)\n",
    "    d={}\n",
    "    for i in s1:\n",
    "        count=0\n",
    "        for j in range(len(s)):\n",
    "            if i==s[j]:\n",
    "             count+=1\n",
    "        d.update({i:count})\n",
    "    return d\n",
    "        "
   ]
  },
  {
   "cell_type": "markdown",
   "metadata": {},
   "source": [
    "A certain childrens game involves starting with a word in a particular category. Each participant in turn says a word, but that word must begin with the final letter of the previous word. Once a word has been given, it cannot be repeated. If an opponent cannot give a word in the category, they fall out of the game. For example, with \"animals\" as the category,\n",
    "Child 1: dog \n",
    "Child 2: goldfish\n",
    "Child 1: hippopotamus\n",
    "Child 2: snake\n",
    "...\n",
    "Your task in this exercise is as follows: Take the following selection of 70 English Pokemon names (extracted from Wikipedia's list of Pokemon) and generate the/a sequence with the highest possible number of Pokemon names where the subsequent name starts with the final letter of the preceding name. No Pokemon name is to be repeated.\n",
    "**audino bagon baltoy banette bidoof braviary bronzor carracosta charmeleon\n",
    "cresselia croagunk darmanitan deino emboar emolga exeggcute gabite\n",
    "girafarig gulpin haxorus heatmor heatran ivysaur jellicent jumpluff kangaskhan\n",
    "kricketune landorus ledyba loudred lumineon lunatone machamp magnezone mamoswine\n",
    "nosepass petilil pidgeotto pikachu pinsir poliwrath poochyena porygon2\n",
    "porygonz registeel relicanth remoraid rufflet sableye scolipede scrafty seaking\n",
    "sealeo silcoon simisear snivy snorlax spoink starly tirtouga trapinch treecko\n",
    "tyrogue vigoroth vulpix wailord wartortle whismur wingull yamask**\n",
    "\n"
   ]
  },
  {
   "cell_type": "code",
   "execution_count": 26,
   "metadata": {},
   "outputs": [
    {
     "name": "stdout",
     "output_type": "stream",
     "text": [
      "['banette', 'emboar']\n"
     ]
    }
   ],
   "source": [
    "\n",
    "names=['audino', 'bagon','baltoy' ,'banette', 'bidoof' ,'braviary' ,'bronzor' ,'carracosta' ,'charmeleon'\n",
    ",'cresselia' ,'croagunk','darmanitan' ,'deino', 'emboar' ,'emolga' ,'exeggcute' ,'gabite']\n",
    "\n",
    "# Prepare our lists\n",
    "longest_series, current_series = [], []\n",
    "\n",
    "\t# Returns the index of the next word that starts with the last letter\n",
    "\t# of the previous word\n",
    "def name_starts_with(lastletter, names):\n",
    "\t\tfor index, name in enumerate(names):\n",
    "\t\t\tif name.startswith(lastletter):\n",
    "\t\t\t\treturn index\n",
    "\t\treturn False\n",
    "\n",
    "\t# This is where the magic happens\n",
    "\t# For each name in the pokemon names list\n",
    "for name in names:\n",
    "\t\tcurrent_name = name\n",
    "\t\tcurrent_series.append(current_name) # Add the first name to the series\n",
    "\n",
    "\t\tnamelist = names[:] # Make a copy of the names list\n",
    "\t\tnamelist.pop(namelist.index(current_name)) # Remove the first name from the list\n",
    "\n",
    "\t\tindex = name_starts_with(current_name[-1], namelist) # Get the index of the next name\n",
    "\n",
    "\t\t# As long as there will be a name that starts with the last letter\n",
    "\t\t# of the previous word\n",
    "\t\twhile index is not False:\n",
    "\t\t\tcurrent_name = namelist[index] # Get this name\n",
    "\t\t\tcurrent_series.append(current_name) # Add it to the series\n",
    "\t\t\tnamelist.pop(index) # Remove it from the list\n",
    "\t\t\tindex = name_starts_with(current_name[-1], namelist) # Get the position of the next one\n",
    "\n",
    "\t\t# If the current series... ah, this is pretty self explanatory\n",
    "\t\tif len(current_series) > len(longest_series):\n",
    "\t\t\tlongest_series = current_series\n",
    "\n",
    "\t\t# Empty our current series for the next loop\n",
    "\t\tcurrent_series = []\n",
    "\n",
    "\t# Print the longest series\n",
    "print(longest_series)    "
   ]
  },
  {
   "cell_type": "markdown",
   "metadata": {},
   "source": [
    "**Write a program able to play the \"Guess the number\"-game, where the number to be guessed is randomly chosen between 1 and 20. (Source: http://inventwithpython.com) This is how it should work when run in a terminal:\n",
    "\n",
    "Hello! What is your name?\n",
    "Torbjörn\n",
    "Well, Torbjörn, I am thinking of a number between 1 and 20.\n",
    "Take a guess.\n",
    "10\n",
    "Your guess is too low.\n",
    "Take a guess.\n",
    "15\n",
    "Your guess is too low.\n",
    "Take a guess.\n",
    "18\n",
    "Good job, Torbjörn! You guessed my number in 3 guesses!***"
   ]
  },
  {
   "cell_type": "code",
   "execution_count": 31,
   "metadata": {},
   "outputs": [
    {
     "name": "stdout",
     "output_type": "stream",
     "text": [
      "Number: 3\n"
     ]
    }
   ],
   "source": [
    "import math\n",
    "def findTarget(target):\n",
    "    low=1\n",
    "    high=20\n",
    "    count=0\n",
    "    while low<=high:\n",
    "      mid=math.floor((low+high)/2)\n",
    "      if mid==target:\n",
    "        return count+1\n",
    "      if mid<target:\n",
    "        low=mid+1\n",
    "      else:\n",
    "        high=mid-1   \n",
    "      count=count+1 \n",
    "    return -1\n",
    "\n",
    "target=18\n",
    "ans=findTarget(target)\n",
    "if ans==-1:\n",
    "    print(\"Not found\")  \n",
    "else:\n",
    "    print(\"Number: %d\"%ans)              "
   ]
  },
  {
   "cell_type": "markdown",
   "metadata": {},
   "source": [
    "***Write a program that maps a list of words into a list of integers representing the lengths of the correponding words.***\n"
   ]
  },
  {
   "cell_type": "code",
   "execution_count": 32,
   "metadata": {},
   "outputs": [
    {
     "name": "stdout",
     "output_type": "stream",
     "text": [
      "[2, 3, 4, 7]\n"
     ]
    }
   ],
   "source": [
    "def map_int(lst):\n",
    "    ans=[]\n",
    "    for word in lst:\n",
    "        ans.append(len(word))\n",
    "    print(ans)\n",
    "\n",
    "\n",
    "\n",
    "map_int(['te','tes','test','testing'])"
   ]
  }
 ],
 "metadata": {
  "kernelspec": {
   "display_name": "Python 3",
   "language": "python",
   "name": "python3"
  },
  "language_info": {
   "codemirror_mode": {
    "name": "ipython",
    "version": 3
   },
   "file_extension": ".py",
   "mimetype": "text/x-python",
   "name": "python",
   "nbconvert_exporter": "python",
   "pygments_lexer": "ipython3",
   "version": "3.11.1"
  },
  "vscode": {
   "interpreter": {
    "hash": "aee8b7b246df8f9039afb4144a1f6fd8d2ca17a180786b69acc140d282b71a49"
   }
  }
 },
 "nbformat": 4,
 "nbformat_minor": 2
}
